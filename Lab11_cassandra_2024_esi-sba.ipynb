{
 "cells": [
  {
   "cell_type": "markdown",
   "metadata": {},
   "source": [
    "# Exercice: Modélisation orientée requête (Cassandra)\n",
    "\n",
    "<table><tr>\n",
    "    <td><img src=\"image/esi-sba.png\" width=\"100\" height=\"100\"></td>\n",
    "    <td><img src=\"image/cassandra.png\" width=\"100\" height=\"100\"></td>\n",
    "    </tr></table>\n",
    "\n"
   ]
  },
  {
   "cell_type": "markdown",
   "metadata": {},
   "source": [
    "### Dans ce notebook, nous allons travailler sur la modélisation orientée requête sous la BDD No-SQL Cassandra, en particulier nous traitons les points suivants :\n",
    "\n",
    "* Dénormaliser une BDD relationnelle en partant du principe 1 table per query \n",
    "* Définir la partie Primary Key pour chaque requête\n",
    "* Optimiser vos modèles en choisissant la bonne Partition Key & Clustering Column\n",
    "* Valider vos modèles \n",
    "* Tester quelques requêtes particulières\n"
   ]
  },
  {
   "cell_type": "markdown",
   "metadata": {},
   "source": [
    "#### installer cassandra-driver afin de se connecter au cluster cassandra\n",
    "! pip install cassandra-driver\n",
    "#### More documentation can be found here:  https://datastax.github.io/python-driver/"
   ]
  },
  {
   "cell_type": "markdown",
   "metadata": {},
   "source": [
    "#### Import Apache Cassandra python package"
   ]
  },
  {
   "cell_type": "code",
   "execution_count": null,
   "metadata": {},
   "outputs": [],
   "source": [
    "import cassandra"
   ]
  },
  {
   "cell_type": "markdown",
   "metadata": {},
   "source": [
    "### créer une connection au cluster cassandra"
   ]
  },
  {
   "cell_type": "code",
   "execution_count": null,
   "metadata": {},
   "outputs": [],
   "source": [
    "from cassandra.cluster import Cluster\n",
    "\n",
    "try: \n",
    "    cluster = Cluster(['127.0.0.1']) # si cassandra est installé localement avec le port par défaut 9042\n",
    "    session = cluster.connect()\n",
    "except Exception as e:\n",
    "    print(e)"
   ]
  },
  {
   "cell_type": "markdown",
   "metadata": {},
   "source": [
    "### créer maintenant un keyspace nommé \"iot_esi\""
   ]
  },
  {
   "cell_type": "code",
   "execution_count": null,
   "metadata": {},
   "outputs": [],
   "source": [
    "try:\n",
    "    \n",
    "  ### add code here \n",
    "  session.execute() \n",
    "\n",
    "except Exception as e:\n",
    "    print(e)"
   ]
  },
  {
   "cell_type": "markdown",
   "metadata": {},
   "source": [
    "### connecter à votre Keyspace  iot_esi \n"
   ]
  },
  {
   "cell_type": "code",
   "execution_count": null,
   "metadata": {},
   "outputs": [],
   "source": [
    "try:\n",
    "    \n",
    "    ### add code here \n",
    "   \n",
    "    \n",
    "except Exception as e:\n",
    "    print(e)"
   ]
  },
  {
   "cell_type": "markdown",
   "metadata": {},
   "source": [
    "### Supposons qu'on a un système IoT qui stocke les données capturées par les différents Sensors en utilisant un modèle RELATIONNEL, tel que est décrit dans le schéma ER ci-dessous:\n",
    "\n",
    "<table><tr>\n",
    "    <td><img src=\"image/ex1_IoT_ER_model.png\" width=\"500\" height=\"500\"></td>\n",
    "      </tr></table>"
   ]
  },
  {
   "cell_type": "markdown",
   "metadata": {},
   "source": [
    "### imaginons  que nous souhaitons analyser ces données à  travers 4 requêtes analytiques:\n",
    "* `Query1= retourner les informations(name, nbSensors) de tous les networks d'une région donnée`\n",
    "* `Query2= retourner les informations (nameNt, NameS, type,localisation, characteristics) de tous les Sensors d'un Network donné.`\n",
    "*  `Query3= retourner les measurements par sensor,  par année et par mois.  Ordonner le résultat par  année(desc) et par  \n",
    "    mois(asc)`\n",
    "* `Query4= retourner le AVG_measurements par network, par type,  et par année.  Ordonner le résultat par  type(desc) et  \n",
    "   par année(desc)`"
   ]
  },
  {
   "cell_type": "markdown",
   "metadata": {},
   "source": [
    "#### Créer les trois tables qui correspondent aux requêtes précédentes, en indiquant pour chacune:\n",
    "* Primary Key\n",
    "* Partition Key\n",
    "* Clustering Column"
   ]
  },
  {
   "cell_type": "code",
   "execution_count": null,
   "metadata": {},
   "outputs": [],
   "source": [
    "try:\n",
    "    \n",
    "    ### Create the table that corresponds to the Query1\n",
    "    query1 = \"\"\n",
    "    session.execute(query1)\n",
    "\n",
    "\n",
    "    ### Create the table that corresponds to the Query2\n",
    "    query2=\"\"\n",
    "    session.execute(query2)\n",
    "    \n",
    "    \n",
    "    ### Create the table that corresponds to the Query3\n",
    "    query3=\"\"\n",
    "    session.execute(query3) \n",
    "    \n",
    "    ### Create the table that corresponds to the Query4\n",
    "    query4=\"\"\n",
    "    session.execute(query4) \n",
    "    \n",
    "except Exception as e:\n",
    "        print(e)"
   ]
  },
  {
   "cell_type": "markdown",
   "metadata": {},
   "source": [
    "### Une fois vous créez les différentes tables, essayez de les peupler en se basant sur le contenu de la BDD relationnelle.\n",
    "\n",
    "<table><tr>\n",
    "    <td><img src=\"image/data_tables.png\" width=\"600\" height=\"500\"></td></tr>\n",
    "  \n",
    "</table>"
   ]
  },
  {
   "cell_type": "markdown",
   "metadata": {},
   "source": [
    "### Insertion des données dans Table1"
   ]
  },
  {
   "cell_type": "code",
   "execution_count": null,
   "metadata": {},
   "outputs": [],
   "source": [
    "query = \" \"\n",
    "\n",
    "\n",
    "try:\n",
    "    session.execute(query, ())\n",
    "   \n",
    "except Exception as e:\n",
    "        print(e)  "
   ]
  },
  {
   "cell_type": "markdown",
   "metadata": {},
   "source": [
    "### Insertion des données dans Table2"
   ]
  },
  {
   "cell_type": "code",
   "execution_count": null,
   "metadata": {},
   "outputs": [],
   "source": [
    "query = \" \"\n",
    "\n",
    "\n",
    "try:\n",
    "    session.execute(query, ())\n",
    "   \n",
    "except Exception as e:\n",
    "        print(e)  "
   ]
  },
  {
   "cell_type": "markdown",
   "metadata": {},
   "source": [
    "### Insertion des données dans Table3"
   ]
  },
  {
   "cell_type": "code",
   "execution_count": null,
   "metadata": {},
   "outputs": [],
   "source": [
    "query = \" \"\n",
    "\n",
    "\n",
    "try:\n",
    "    session.execute(query, ())\n",
    "   \n",
    "except Exception as e:\n",
    "        print(e)  "
   ]
  },
  {
   "cell_type": "markdown",
   "metadata": {},
   "source": [
    "### Insertion des données dans Table4"
   ]
  },
  {
   "cell_type": "code",
   "execution_count": null,
   "metadata": {},
   "outputs": [],
   "source": [
    "query = \" \"\n",
    "\n",
    "\n",
    "try:\n",
    "    session.execute(query, ())\n",
    "   \n",
    "except Exception as e:\n",
    "        print(e)  "
   ]
  },
  {
   "cell_type": "markdown",
   "metadata": {},
   "source": [
    "### Valider votre modèle en exécutant les requêtes suivantes\n",
    "\n",
    "* Retourner le nombre de sensors dans la région ouest\"\n",
    "\n",
    "* Retourner les sensors qui sont placés dans le network \"esi-net\"\n",
    "\n",
    "* retourner les températures recordées  par le sensor \"temp-11\" pendant le mois octobre de l'année 2021\n",
    "\n",
    "* Retourner pour chaque année, la valuer moyenne enregistrée par les sensors de type \"temp\" dans le network \"esi-net\""
   ]
  },
  {
   "cell_type": "code",
   "execution_count": null,
   "metadata": {
    "scrolled": true
   },
   "outputs": [],
   "source": [
    "# query1: Retourner le nombre de sensors dans la région ouest\n",
    "query = \"'\"\n",
    "\n",
    "try:\n",
    "    rows = session.execute(query)\n",
    "    for row in rows:\n",
    "          print (row)\n",
    "except Exception as e:\n",
    "        print(e)           "
   ]
  },
  {
   "cell_type": "code",
   "execution_count": null,
   "metadata": {
    "scrolled": true
   },
   "outputs": [],
   "source": [
    "# query2: Retourner les sensors qui sont placés dans le network \"esi-net\"\n",
    "query = \"'\"\n",
    "\n",
    "try:\n",
    "    rows = session.execute(query)\n",
    "    for row in rows:\n",
    "          print (row)\n",
    "except Exception as e:\n",
    "        print(e)    "
   ]
  },
  {
   "cell_type": "code",
   "execution_count": null,
   "metadata": {
    "scrolled": true
   },
   "outputs": [],
   "source": [
    "# query3:  retourner les températures recordées  par le sensor \"temp-11\" pendant le mois octobre de l'année 2021\n",
    "query = \"'\"\n",
    "\n",
    "try:\n",
    "    rows = session.execute(query)\n",
    "    for row in rows:\n",
    "          print (row)\n",
    "except Exception as e:\n",
    "        print(e)          "
   ]
  },
  {
   "cell_type": "code",
   "execution_count": null,
   "metadata": {
    "scrolled": true
   },
   "outputs": [],
   "source": [
    "# query4: Retourner pour chaque année, la valuer moyenne enregistrée par les sensors de type \"temp\" dans le network \"esi-net\"\n",
    "query = \"'\"\n",
    "\n",
    "try:\n",
    "    rows = session.execute(query)\n",
    "    for row in rows:\n",
    "          print (row)\n",
    "except Exception as e:\n",
    "        print(e)        "
   ]
  },
  {
   "cell_type": "markdown",
   "metadata": {},
   "source": [
    "### Essayons d'autres requêtes \n",
    "\n",
    "* `Retourner les température enregistrée par le sensor \"temp-11\"  pendant le  mois d'octobre de toutes les années` "
   ]
  },
  {
   "cell_type": "code",
   "execution_count": null,
   "metadata": {},
   "outputs": [],
   "source": [
    "# query5\n",
    "query = \"'\"\n",
    "\n",
    "try:\n",
    "    rows = session.execute(query)\n",
    "    for row in rows:\n",
    "          print (row)\n",
    "except Exception as e:\n",
    "        print(e)      "
   ]
  },
  {
   "cell_type": "markdown",
   "metadata": {},
   "source": [
    "### Proposer une solution pour optimiser cette requête"
   ]
  },
  {
   "cell_type": "code",
   "execution_count": null,
   "metadata": {},
   "outputs": [],
   "source": [
    "### make your solution \n",
    "## table creation\n",
    "### Create the table that corresponds to the Query5\n",
    "query5=\"\"\n",
    "session.execute(query5) \n",
    "\n",
    "## insert data\n",
    "query = \"\"\n",
    "\n",
    "try:\n",
    "    session.execute(query, ())\n",
    "  \n",
    "except Exception as e :\n",
    "        print(e)"
   ]
  },
  {
   "cell_type": "code",
   "execution_count": null,
   "metadata": {},
   "outputs": [],
   "source": [
    "# query5\n",
    "query = \"\"\n",
    "\n",
    "\n",
    "\n",
    "try:\n",
    "    rows = session.execute(query)\n",
    "    for row in rows:\n",
    "          print (row)\n",
    "except Exception as e:\n",
    "        print(e)  "
   ]
  },
  {
   "cell_type": "markdown",
   "metadata": {},
   "source": [
    "###  drop  tables. "
   ]
  },
  {
   "cell_type": "code",
   "execution_count": null,
   "metadata": {},
   "outputs": [],
   "source": [
    "query = \"drop table IF EXISTS ...\"\n",
    "rows = session.execute(query)\n",
    "\n",
    "query = \"drop table IF EXISTS ... \"\n",
    "rows = session.execute(query)\n",
    "\n",
    "query = \"drop table IF EXISTS ....  \"\n",
    "rows = session.execute(query)\n",
    "\n",
    "\n",
    "\n",
    "query = \"drop table IF EXISTS ... \"\n",
    "rows = session.execute(query)"
   ]
  },
  {
   "cell_type": "markdown",
   "metadata": {},
   "source": [
    "### close the session and cluster connection"
   ]
  },
  {
   "cell_type": "code",
   "execution_count": null,
   "metadata": {},
   "outputs": [],
   "source": [
    "session.shutdown()\n",
    "cluster.shutdown()"
   ]
  },
  {
   "cell_type": "code",
   "execution_count": null,
   "metadata": {},
   "outputs": [],
   "source": []
  }
 ],
 "metadata": {
  "kernelspec": {
   "display_name": "Python 3 (ipykernel)",
   "language": "python",
   "name": "python3"
  },
  "language_info": {
   "codemirror_mode": {
    "name": "ipython",
    "version": 3
   },
   "file_extension": ".py",
   "mimetype": "text/x-python",
   "name": "python",
   "nbconvert_exporter": "python",
   "pygments_lexer": "ipython3",
   "version": "3.7.4"
  }
 },
 "nbformat": 4,
 "nbformat_minor": 2
}
